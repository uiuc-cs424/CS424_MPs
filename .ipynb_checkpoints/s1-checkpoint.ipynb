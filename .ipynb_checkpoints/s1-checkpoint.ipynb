{
 "cells": [
  {
   "cell_type": "code",
   "execution_count": 2,
   "id": "4469b928-4162-4e49-9012-571591db9b40",
   "metadata": {},
   "outputs": [],
   "source": [
    "import os"
   ]
  },
  {
   "cell_type": "code",
   "execution_count": 7,
   "id": "bad50b2d-1002-4f2c-8d95-ea30443dc3ae",
   "metadata": {},
   "outputs": [],
   "source": [
    "processing_order_out_path = \"check/s1_2.png\"\n",
    "fileName = \"s1.png\""
   ]
  },
  {
   "cell_type": "code",
   "execution_count": 8,
   "id": "ee912fd2-699d-40e5-a645-55ec9e747c2c",
   "metadata": {},
   "outputs": [
    {
     "name": "stdout",
     "output_type": "stream",
     "text": [
      "***\n"
     ]
    }
   ],
   "source": [
    "if os.path.exists(processing_order_out_path):\n",
    "    original_image = cv2.imread(processing_order_out_path)"
   ]
  },
  {
   "cell_type": "code",
   "execution_count": null,
   "id": "bc952297-a922-43cb-b7de-cb1b8f1e1e58",
   "metadata": {},
   "outputs": [],
   "source": []
  }
 ],
 "metadata": {
  "kernelspec": {
   "display_name": "Python 3 (ipykernel)",
   "language": "python",
   "name": "python3"
  },
  "language_info": {
   "codemirror_mode": {
    "name": "ipython",
    "version": 3
   },
   "file_extension": ".py",
   "mimetype": "text/x-python",
   "name": "python",
   "nbconvert_exporter": "python",
   "pygments_lexer": "ipython3",
   "version": "3.10.9"
  }
 },
 "nbformat": 4,
 "nbformat_minor": 5
}
